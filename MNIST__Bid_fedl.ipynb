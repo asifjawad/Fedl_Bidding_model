{
  "nbformat": 4,
  "nbformat_minor": 0,
  "metadata": {
    "colab": {
      "provenance": []
    },
    "kernelspec": {
      "name": "python3",
      "display_name": "Python 3"
    },
    "language_info": {
      "name": "python"
    }
  },
  "cells": [
    {
      "cell_type": "code",
      "execution_count": null,
      "metadata": {
        "id": "0jsU6pgo__YO",
        "colab": {
          "base_uri": "https://localhost:8080/"
        },
        "outputId": "00231654-5dad-40ef-b7bc-f8358d1d3841"
      },
      "outputs": [
        {
          "output_type": "stream",
          "name": "stdout",
          "text": [
            "\u001b[2K     \u001b[90m━━━━━━━━━━━━━━━━━━━━━━━━━━━━━━━━━━━━━━━\u001b[0m \u001b[32m200.4/200.4 kB\u001b[0m \u001b[31m3.8 MB/s\u001b[0m eta \u001b[36m0:00:00\u001b[0m\n",
            "\u001b[2K     \u001b[90m━━━━━━━━━━━━━━━━━━━━━━━━━━━━━━━━━━━━━━━━\u001b[0m \u001b[32m2.1/2.1 MB\u001b[0m \u001b[31m12.4 MB/s\u001b[0m eta \u001b[36m0:00:00\u001b[0m\n",
            "\u001b[2K     \u001b[90m━━━━━━━━━━━━━━━━━━━━━━━━━━━━━━━━━━━━━━━━\u001b[0m \u001b[32m56.9/56.9 MB\u001b[0m \u001b[31m10.5 MB/s\u001b[0m eta \u001b[36m0:00:00\u001b[0m\n",
            "\u001b[2K     \u001b[90m━━━━━━━━━━━━━━━━━━━━━━━━━━━━━━━━━━━━━━\u001b[0m \u001b[32m201.4/201.4 kB\u001b[0m \u001b[31m20.4 MB/s\u001b[0m eta \u001b[36m0:00:00\u001b[0m\n",
            "\u001b[2K     \u001b[90m━━━━━━━━━━━━━━━━━━━━━━━━━━━━━━━━━━━━━━━━\u001b[0m \u001b[32m3.0/3.0 MB\u001b[0m \u001b[31m49.3 MB/s\u001b[0m eta \u001b[36m0:00:00\u001b[0m\n",
            "\u001b[2K     \u001b[90m━━━━━━━━━━━━━━━━━━━━━━━━━━━━━━━━━━━━━━━━\u001b[0m \u001b[32m98.1/98.1 kB\u001b[0m \u001b[31m7.6 MB/s\u001b[0m eta \u001b[36m0:00:00\u001b[0m\n",
            "\u001b[?25h  Installing build dependencies ... \u001b[?25l\u001b[?25hdone\n",
            "  Getting requirements to build wheel ... \u001b[?25l\u001b[?25hdone\n",
            "  Preparing metadata (pyproject.toml) ... \u001b[?25l\u001b[?25hdone\n",
            "\u001b[2K     \u001b[90m━━━━━━━━━━━━━━━━━━━━━━━━━━━━━━━━━━━━━━\u001b[0m \u001b[32m128.2/128.2 kB\u001b[0m \u001b[31m13.2 MB/s\u001b[0m eta \u001b[36m0:00:00\u001b[0m\n",
            "\u001b[2K     \u001b[90m━━━━━━━━━━━━━━━━━━━━━━━━━━━━━━━━━━━━━━━━\u001b[0m \u001b[32m8.7/8.7 MB\u001b[0m \u001b[31m51.2 MB/s\u001b[0m eta \u001b[36m0:00:00\u001b[0m\n",
            "\u001b[2K     \u001b[90m━━━━━━━━━━━━━━━━━━━━━━━━━━━━━━━━━━━━━━━━\u001b[0m \u001b[32m58.4/58.4 kB\u001b[0m \u001b[31m5.9 MB/s\u001b[0m eta \u001b[36m0:00:00\u001b[0m\n",
            "\u001b[2K     \u001b[90m━━━━━━━━━━━━━━━━━━━━━━━━━━━━━━━━━━━━━━\u001b[0m \u001b[32m468.9/468.9 kB\u001b[0m \u001b[31m37.1 MB/s\u001b[0m eta \u001b[36m0:00:00\u001b[0m\n",
            "\u001b[?25h  Building wheel for gpustat (pyproject.toml) ... \u001b[?25l\u001b[?25hdone\n",
            "Collecting torchmetrics\n",
            "  Downloading torchmetrics-1.1.2-py3-none-any.whl (764 kB)\n",
            "\u001b[2K     \u001b[90m━━━━━━━━━━━━━━━━━━━━━━━━━━━━━━━━━━━━━━\u001b[0m \u001b[32m764.8/764.8 kB\u001b[0m \u001b[31m10.7 MB/s\u001b[0m eta \u001b[36m0:00:00\u001b[0m\n",
            "\u001b[?25hRequirement already satisfied: numpy>1.20.0 in /usr/local/lib/python3.10/dist-packages (from torchmetrics) (1.23.5)\n",
            "Requirement already satisfied: torch>=1.8.1 in /usr/local/lib/python3.10/dist-packages (from torchmetrics) (2.0.1+cu118)\n",
            "Collecting lightning-utilities>=0.8.0 (from torchmetrics)\n",
            "  Downloading lightning_utilities-0.9.0-py3-none-any.whl (23 kB)\n",
            "Requirement already satisfied: packaging>=17.1 in /usr/local/lib/python3.10/dist-packages (from lightning-utilities>=0.8.0->torchmetrics) (23.1)\n",
            "Requirement already satisfied: typing-extensions in /usr/local/lib/python3.10/dist-packages (from lightning-utilities>=0.8.0->torchmetrics) (4.5.0)\n",
            "Requirement already satisfied: filelock in /usr/local/lib/python3.10/dist-packages (from torch>=1.8.1->torchmetrics) (3.12.2)\n",
            "Requirement already satisfied: sympy in /usr/local/lib/python3.10/dist-packages (from torch>=1.8.1->torchmetrics) (1.12)\n",
            "Requirement already satisfied: networkx in /usr/local/lib/python3.10/dist-packages (from torch>=1.8.1->torchmetrics) (3.1)\n",
            "Requirement already satisfied: jinja2 in /usr/local/lib/python3.10/dist-packages (from torch>=1.8.1->torchmetrics) (3.1.2)\n",
            "Requirement already satisfied: triton==2.0.0 in /usr/local/lib/python3.10/dist-packages (from torch>=1.8.1->torchmetrics) (2.0.0)\n",
            "Requirement already satisfied: cmake in /usr/local/lib/python3.10/dist-packages (from triton==2.0.0->torch>=1.8.1->torchmetrics) (3.27.4.1)\n",
            "Requirement already satisfied: lit in /usr/local/lib/python3.10/dist-packages (from triton==2.0.0->torch>=1.8.1->torchmetrics) (16.0.6)\n",
            "Requirement already satisfied: MarkupSafe>=2.0 in /usr/local/lib/python3.10/dist-packages (from jinja2->torch>=1.8.1->torchmetrics) (2.1.3)\n",
            "Requirement already satisfied: mpmath>=0.19 in /usr/local/lib/python3.10/dist-packages (from sympy->torch>=1.8.1->torchmetrics) (1.3.0)\n",
            "Installing collected packages: lightning-utilities, torchmetrics\n",
            "Successfully installed lightning-utilities-0.9.0 torchmetrics-1.1.2\n"
          ]
        }
      ],
      "source": [
        "!pip install -q flwr[simulation] torch torchvision matplotlib\n",
        "!pip install torchmetrics"
      ]
    },
    {
      "cell_type": "code",
      "source": [
        "from collections import OrderedDict\n",
        "from typing import List, Tuple\n",
        "%matplotlib inline\n",
        "import matplotlib.pyplot as plt\n",
        "import numpy as np\n",
        "import torch\n",
        "import torch.nn as nn\n",
        "import torch.nn.functional as F\n",
        "import torchvision\n",
        "import torchvision.transforms as transforms\n",
        "from torch.utils.data import DataLoader, random_split, TensorDataset\n",
        "from torchvision.datasets import CIFAR10,MNIST\n",
        "from torch import Tensor\n",
        "\n",
        "from dataclasses import dataclass\n",
        "\n",
        "import random\n",
        "import pandas as pd\n",
        "\n",
        "import flwr as fl\n",
        "from flwr.common import Metrics\n",
        "\n"
      ],
      "metadata": {
        "id": "rxXzbav1AOCr"
      },
      "execution_count": null,
      "outputs": []
    },
    {
      "cell_type": "code",
      "source": [
        "\n",
        "DEVICE = torch.device(\"cpu\")  # Try \"cuda\" to train on GPU\n",
        "print(\n",
        "    f\"Training on {DEVICE} using PyTorch {torch.__version__} and Flower {fl.__version__}\"\n",
        ")"
      ],
      "metadata": {
        "colab": {
          "base_uri": "https://localhost:8080/"
        },
        "id": "0ks8_UXDV7W3",
        "outputId": "d4740ce8-d3a0-4899-9e7c-234dd19a176b"
      },
      "execution_count": null,
      "outputs": [
        {
          "output_type": "stream",
          "name": "stdout",
          "text": [
            "Training on cpu using PyTorch 2.0.1+cu118 and Flower 1.5.0\n"
          ]
        }
      ]
    },
    {
      "cell_type": "code",
      "source": [
        "BATCH_SIZE = 32\n",
        "NUM_CLIENTS=5\n",
        "\n",
        "def load_datasets():\n",
        "    # Download and transform CIFAR-10 (train and test)\n",
        "    transform = transforms.Compose(\n",
        "        [transforms.ToTensor(), transforms.Normalize((0.5,), (0.5,))]\n",
        "    )\n",
        "    trainset = MNIST(\"./dataset\", train=True, download=True, transform=transform)\n",
        "    testset = MNIST(\"./dataset\", train=False, download=True, transform=transform)\n",
        "\n",
        "    # Split training set into 10 partitions to simulate the individual dataset\n",
        "    partition_size = len(trainset) // NUM_CLIENTS\n",
        "    lengths = [partition_size] * NUM_CLIENTS\n",
        "    datasets = random_split(trainset, lengths, torch.Generator().manual_seed(42))\n",
        "\n",
        "    # Split each partition into train/val and create DataLoader\n",
        "    trainloaders = []\n",
        "    valloaders = []\n",
        "    for ds in datasets:\n",
        "        len_val = len(ds) // 5  # 10 % validation set\n",
        "        len_train = len(ds) - len_val\n",
        "        lengths = [len_train, len_val]\n",
        "        ds_train, ds_val = random_split(ds, lengths, torch.Generator().manual_seed(42))\n",
        "        trainloaders.append(DataLoader(ds_train, batch_size=BATCH_SIZE, shuffle=True))\n",
        "        valloaders.append(DataLoader(ds_val, batch_size=BATCH_SIZE))\n",
        "    testloader = DataLoader(testset, batch_size=BATCH_SIZE)\n",
        "    return trainloaders, valloaders, testloader\n",
        "\n",
        "\n",
        "trainloaders, valloaders, testloader = load_datasets()\n"
      ],
      "metadata": {
        "id": "7L3BU9szAOJ7",
        "colab": {
          "base_uri": "https://localhost:8080/"
        },
        "outputId": "b20d4c3b-6d7f-433e-c3d6-964f2da1fb9e"
      },
      "execution_count": null,
      "outputs": [
        {
          "output_type": "stream",
          "name": "stdout",
          "text": [
            "Downloading http://yann.lecun.com/exdb/mnist/train-images-idx3-ubyte.gz\n",
            "Downloading http://yann.lecun.com/exdb/mnist/train-images-idx3-ubyte.gz to ./dataset/MNIST/raw/train-images-idx3-ubyte.gz\n"
          ]
        },
        {
          "output_type": "stream",
          "name": "stderr",
          "text": [
            "100%|██████████| 9912422/9912422 [00:00<00:00, 106441450.51it/s]\n"
          ]
        },
        {
          "output_type": "stream",
          "name": "stdout",
          "text": [
            "Extracting ./dataset/MNIST/raw/train-images-idx3-ubyte.gz to ./dataset/MNIST/raw\n",
            "\n",
            "Downloading http://yann.lecun.com/exdb/mnist/train-labels-idx1-ubyte.gz\n",
            "Downloading http://yann.lecun.com/exdb/mnist/train-labels-idx1-ubyte.gz to ./dataset/MNIST/raw/train-labels-idx1-ubyte.gz\n"
          ]
        },
        {
          "output_type": "stream",
          "name": "stderr",
          "text": [
            "100%|██████████| 28881/28881 [00:00<00:00, 18576245.03it/s]"
          ]
        },
        {
          "output_type": "stream",
          "name": "stdout",
          "text": [
            "Extracting ./dataset/MNIST/raw/train-labels-idx1-ubyte.gz to ./dataset/MNIST/raw\n",
            "\n",
            "Downloading http://yann.lecun.com/exdb/mnist/t10k-images-idx3-ubyte.gz\n",
            "Downloading http://yann.lecun.com/exdb/mnist/t10k-images-idx3-ubyte.gz to ./dataset/MNIST/raw/t10k-images-idx3-ubyte.gz\n"
          ]
        },
        {
          "output_type": "stream",
          "name": "stderr",
          "text": [
            "\n",
            "100%|██████████| 1648877/1648877 [00:00<00:00, 32458763.66it/s]\n"
          ]
        },
        {
          "output_type": "stream",
          "name": "stdout",
          "text": [
            "Extracting ./dataset/MNIST/raw/t10k-images-idx3-ubyte.gz to ./dataset/MNIST/raw\n",
            "\n",
            "Downloading http://yann.lecun.com/exdb/mnist/t10k-labels-idx1-ubyte.gz\n",
            "Downloading http://yann.lecun.com/exdb/mnist/t10k-labels-idx1-ubyte.gz to ./dataset/MNIST/raw/t10k-labels-idx1-ubyte.gz\n"
          ]
        },
        {
          "output_type": "stream",
          "name": "stderr",
          "text": [
            "100%|██████████| 4542/4542 [00:00<00:00, 6151284.72it/s]\n"
          ]
        },
        {
          "output_type": "stream",
          "name": "stdout",
          "text": [
            "Extracting ./dataset/MNIST/raw/t10k-labels-idx1-ubyte.gz to ./dataset/MNIST/raw\n",
            "\n"
          ]
        }
      ]
    },
    {
      "cell_type": "code",
      "source": [
        "CLASSES = (\n",
        "    \"plane\",\n",
        "    \"car\",\n",
        "    \"bird\",\n",
        "    \"cat\",\n",
        "    \"deer\",\n",
        "    \"dog\",\n",
        "    \"frog\",\n",
        "    \"horse\",\n",
        "    \"ship\",\n",
        "    \"truck\",\n",
        ")\n",
        "\n",
        "\n",
        "images, labels = next(iter(trainloaders[0]))\n",
        "\n",
        "# Reshape and convert images to a NumPy array\n",
        "# matplotlib requires images with the shape (height, width, 3)\n",
        "images = images.permute(0, 2, 3, 1).numpy()\n",
        "# Denormalize\n",
        "images = images / 2 + 0.5\n",
        "\n",
        "# Create a figure and a grid of subplots\n",
        "fig, axs = plt.subplots(4, 8, figsize=(12, 6))\n",
        "\n",
        "# Loop over the images and plot them\n",
        "for i, ax in enumerate(axs.flat):\n",
        "    ax.imshow(images[i])\n",
        "    ax.set_title(CLASSES[labels[i]])\n",
        "    ax.axis(\"off\")\n",
        "\n",
        "# Show the plot\n",
        "fig.tight_layout()\n",
        "plt.show()"
      ],
      "metadata": {
        "colab": {
          "base_uri": "https://localhost:8080/",
          "height": 607
        },
        "id": "rtAPDsgaS3Th",
        "outputId": "b53ea4de-bac4-4166-f0d6-91653b169f8e"
      },
      "execution_count": null,
      "outputs": [
        {
          "output_type": "display_data",
          "data": {
            "text/plain": [
              "<Figure size 1200x600 with 32 Axes>"
            ],
            "image/png": "[encoded data removed]"
          },
          "metadata": {}
        }
      ]
    },
    {
      "cell_type": "code",
      "source": [
        "from torchmetrics.functional import r2_score\n",
        "\n",
        "class Net(nn.Module):\n",
        "    def __init__(self):\n",
        "        super(Net, self).__init__()\n",
        "        self.conv1 = nn.Conv2d(1, 10, kernel_size=5)\n",
        "        self.conv2 = nn.Conv2d(10, 20, kernel_size=5)\n",
        "        self.conv2_drop = nn.Dropout2d()\n",
        "        self.fc1 = nn.Linear(320, 50)\n",
        "        self.fc2 = nn.Linear(50, 10)\n",
        "\n",
        "    def forward(self, x):\n",
        "        x = F.relu(F.max_pool2d(self.conv1(x), 2))\n",
        "        x = F.relu(F.max_pool2d(self.conv2_drop(self.conv2(x)), 2))\n",
        "        x = x.view(-1, 320)\n",
        "        x = F.relu(self.fc1(x))\n",
        "        x = F.dropout(x, training=self.training)\n",
        "        x = self.fc2(x)\n",
        "        return F.log_softmax(x, dim=1)\n",
        "\n",
        "def train(net, trainloader, epochs: int, verbose=False):\n",
        "    \"\"\"Train the network on the training set.\"\"\"\n",
        "    criterion = torch.nn.CrossEntropyLoss()\n",
        "    optimizer = torch.optim.Adam(net.parameters())\n",
        "    net.train()\n",
        "    each_node_train_loss = []\n",
        "    each_node_valid_loss = []\n",
        "    for epoch in range(epochs):\n",
        "        correct, total, epoch_loss = 0, 0, 0.0\n",
        "        lo = []\n",
        "        for inputs, labels in trainloader:\n",
        "            inputs, labels = inputs.to(DEVICE), labels.to(DEVICE)\n",
        "            optimizer.zero_grad()\n",
        "            outputs = net(inputs)\n",
        "            loss = criterion(outputs, labels)\n",
        "            loss.backward()\n",
        "            optimizer.step()\n",
        "            # Metrics\n",
        "            epoch_loss += loss\n",
        "            total += labels.size(0)\n",
        "            correct += (torch.max(outputs.data, 1)[1] == labels).sum().item()\n",
        "        epoch_loss /= len(trainloader.dataset)\n",
        "        each_node_train_loss.append(epoch_loss.detach().numpy())\n",
        "        #lo.append(epoch_loss)\n",
        "        epoch_acc = correct / total\n",
        "        # plt.plot(epoch_loss)\n",
        "        if verbose:\n",
        "            print(f\"Epoch {epoch+1}: train loss {epoch_loss}, accuracy {epoch_acc}\")\n",
        "\n",
        "\n",
        "        # # Validation loop\n",
        "        # net.eval()  # Set the model to evaluation mode\n",
        "        # total_val_loss = 0.0\n",
        "\n",
        "        # with torch.no_grad():\n",
        "        #     for inputs, labels in valloaders[0]:\n",
        "        #         inputs, labels = inputs.to(DEVICE), labels.to(DEVICE)\n",
        "\n",
        "        #         # Forward pass\n",
        "        #         outputs = net(inputs)\n",
        "        #         loss = criterion(outputs, labels)\n",
        "\n",
        "        #         total_val_loss += loss.item()\n",
        "\n",
        "        # avg_val_loss = total_val_loss / len(testloader.dataset)\n",
        "        # each_node_valid_loss.append(avg_val_loss)\n",
        "\n",
        "\n",
        "\n",
        "\n",
        "    return each_node_train_loss #, each_node_valid_loss\n",
        "\n",
        "\n",
        "def test(net, testloader):\n",
        "    \"\"\"Evaluate the network on the entire test set.\"\"\"\n",
        "    criterion = torch.nn.CrossEntropyLoss()\n",
        "    correct, total, loss, r2loss = 0, 0, 0.0 , 0\n",
        "    loss_list = []\n",
        "\n",
        "    net.eval()\n",
        "    with torch.no_grad():\n",
        "        for inputs, labels in testloader:\n",
        "            inputs, labels = inputs.to(DEVICE), labels.to(DEVICE)\n",
        "            outputs = net(inputs )\n",
        "            loss += criterion(outputs, labels).item()\n",
        "            # r2loss += r2_score(outputs, labels)\n",
        "            _, predicted = torch.max(outputs.data, 1)\n",
        "            total += labels.size(0)\n",
        "            correct += (predicted == labels).sum().item()\n",
        "    loss /= len(testloader.dataset)\n",
        "    accuracy = correct / total\n",
        "\n",
        "    return loss, accuracy\n",
        "\n",
        "\n",
        "\n",
        "\n",
        "trainloader = trainloaders[0]\n",
        "valloader = valloaders[0]\n",
        "\n",
        "net = Net().to(DEVICE)\n",
        "test_loss = []\n",
        "node_loss = []\n",
        "node_valid_loss = []\n",
        "for epoch in range(20):\n",
        "    node_tain = train(net, trainloader, 1, verbose=False)\n",
        "    node_loss.append(node_tain)\n",
        "    # node_valid_loss.append(node_valid)\n",
        "    loss, accuracy = test(net, testloader)\n",
        "    test_loss.append(loss)\n",
        "\n",
        "    # print(f\"Epoch {epoch+1}: validation loss {loss}, accuracy {accuracy}\")\n",
        "\n",
        "loss, accuracy = test(net, testloader)\n",
        "print(f\"Final test set performance:\\n\\tloss {loss}\\n\\taccuracy {accuracy}\")\n",
        "\n",
        "train_loss = [tensor.item() for sublist in node_loss for tensor in sublist]\n",
        "\n",
        "plt.plot(train_loss, label='Training Loss')\n",
        "# plt.plot(node_valid_loss, label='Valid Loss')\n",
        "\n",
        "plt.plot(test_loss, label='test Loss')\n",
        "plt.legend()\n",
        "plt.show()\n",
        "\n",
        "\n",
        "\n",
        "\n"
      ],
      "metadata": {
        "id": "oqpNxXiQAOMT",
        "colab": {
          "base_uri": "https://localhost:8080/",
          "height": 482
        },
        "outputId": "98571deb-32d3-476d-8828-f4ec7c9bf841"
      },
      "execution_count": null,
      "outputs": [
        {
          "output_type": "stream",
          "name": "stdout",
          "text": [
            "Final test set performance:\n",
            "\tloss 0.0021364107358268483\n",
            "\taccuracy 0.9792\n"
          ]
        },
        {
          "output_type": "display_data",
          "data": {
            "text/plain": [
              "<Figure size 640x480 with 1 Axes>"
            ],
            "image/png": "[encoded data removed]"
          },
          "metadata": {}
        }
      ]
    },
    {
      "cell_type": "code",
      "source": [
        "def get_parameters(net) -> List[np.ndarray]:\n",
        "    return [val.cpu().numpy() for _, val in net.state_dict().items()]\n",
        "\n",
        "\n",
        "def set_parameters(net, parameters: List[np.ndarray]):\n",
        "    params_dict = zip(net.state_dict().keys(), parameters)\n",
        "    state_dict = OrderedDict({k: torch.Tensor(v) for k, v in params_dict})\n",
        "    net.load_state_dict(state_dict, strict=True)\n",
        "\n"
      ],
      "metadata": {
        "id": "QIszAF-IAOO0"
      },
      "execution_count": null,
      "outputs": []
    },
    {
      "cell_type": "code",
      "source": [
        "from scipy.integrate import quad\n",
        "\n",
        "\"\"\" Nash Equilibrium Values Calculation \"\"\"\n",
        "# write the function values for each of it\n",
        "n= 5\n",
        "# node_cost = 0.4\n",
        "highest_value = 2\n",
        "\n",
        "def integ(total_resource_cost, score):\n",
        "    def NE(x):\n",
        "        # return total_resource_cost * ((1 - np.exp(-score)) / (1 - np.exp(-highest_value)))**(n-3)\n",
        "        return total_resource_cost * (score / highest_value)**(n-2)\n",
        "\n",
        "\n",
        "    integral, _ = quad(NE, 0, highest_value)\n",
        "    print(\"The Integral Value is = \", integral)\n",
        "\n",
        "    return integral\n",
        "\n",
        "\n",
        "\n",
        "\"\"\" NE END \"\"\"\n",
        "\n",
        "\n",
        "def normalize(data, data_min, data_max):\n",
        "    d = (data - data_min) / (data_max - data_min)\n",
        "    return d\n",
        "\n",
        "\n",
        "\"\"\" Functions\"\"\"\n",
        "\n",
        "class Euler():\n",
        "  def __init__(self, X_init =1, Y_init=1 , step =10 ):\n",
        "    self.x = np.zeros(step+1)\n",
        "    self.y = np.zeros(step+1)\n",
        "\n",
        "    self.x[0] = X_init\n",
        "    self.y[0] = Y_init\n",
        "    self.step = step\n",
        "\n",
        "\n",
        "  def function(self,y,x):\n",
        "    return y\n",
        "\n",
        "  def approximate_value(self, x_required):\n",
        "    h = (x_required - self.x[0]) / self.step\n",
        "\n",
        "    for k in range(self.step):\n",
        "      self.x[k+1] = self.x[k] + h\n",
        "      self.y[k+1] = self.y[k] + h * self.function(self.y[k], self.x[k])\n",
        "    return self.y[-1]\n",
        "\n",
        "\n",
        "# Nash Equilibrium\n",
        "def nash_equilibrium():\n",
        "  # For each node, calculate q(θ) and p(θ)\n",
        "  pass\n",
        "\n",
        "\n",
        "\n",
        "def calculate_p(q):\n",
        "  resource_value = sum(alpha * q)\n",
        "  total_resource_cost = sum(resource_cost * q)\n",
        "  profit = resource_value - total_resource_cost\n",
        "  euler = Euler()\n",
        "  p = euler.approximate_value(profit)\n",
        "\n",
        "  # Have to modify accordingly\n",
        "\n",
        "  resource_value = sum(alpha * q) + p\n",
        "  total_resource_cost = sum(resource_cost * q)\n",
        "\n",
        "\n",
        "  return round(p,2), total_resource_cost\n",
        "\n",
        "\n",
        "def scoring_function(q,p):\n",
        "  return np.sum(alpha*q) + p #np.min(alpha * q) +p"
      ],
      "metadata": {
        "id": "7wJ6ez4rrr7P"
      },
      "execution_count": null,
      "outputs": []
    },
    {
      "cell_type": "code",
      "source": [
        "from typing import Dict, Tuple\n",
        "\n",
        "from flwr.common import Config, NDArrays, Scalar\n",
        "from flwr.common.logger import log\n",
        "from flwr.server.client_manager import ClientManager\n",
        "from flwr.server.client_proxy import ClientProxy\n",
        "from logging import WARNING\n",
        "from typing import Callable, Dict, List, Optional, Tuple, Union\n",
        "\n",
        "from flwr.common import (\n",
        "    EvaluateIns,\n",
        "    EvaluateRes,\n",
        "    FitIns,\n",
        "    FitRes,\n",
        "    GetPropertiesIns,\n",
        "    MetricsAggregationFn,\n",
        "    NDArrays,\n",
        "    Parameters,\n",
        "    Scalar,\n",
        "    ndarrays_to_parameters,\n",
        "    parameters_to_ndarrays,\n",
        "    Config\n",
        ")\n"
      ],
      "metadata": {
        "id": "9p0YWe0q4KA5"
      },
      "execution_count": null,
      "outputs": []
    },
    {
      "cell_type": "code",
      "source": [
        "\n",
        "P_MIN = 0.021334328158479184\n",
        "P_MAX = 0.03875953108451435\n",
        "\n",
        "DATA_MIN = int(1000)\n",
        "DATA_MAX = int(5000)\n",
        "\n",
        "BANDWIDTH_MIN = int(5)\n",
        "BANDWIDTH_MAX = int(100)\n",
        "\n",
        "RESOURCE = np.array([[random.randint(BANDWIDTH_MIN,BANDWIDTH_MAX), random.randint(DATA_MIN,DATA_MAX)]], dtype=float) # Bandwidth , Data\n",
        "\n",
        "alpha = [0.5,0.5] # Alpha value for each feature,\n",
        "resource_cost = [0.6 , 0.4] # cost for each resource\n",
        "K= 2\n"
      ],
      "metadata": {
        "id": "Rxoeu3U8Z1XC"
      },
      "execution_count": null,
      "outputs": []
    },
    {
      "cell_type": "code",
      "source": [
        "def weighted_average(metrics: List[Tuple[int, Metrics]]) -> Metrics:\n",
        "    # Multiply accuracy of each client by number of examples used\n",
        "    accuracies = [num_examples * m[\"loss\"] for num_examples, m in metrics]\n",
        "    examples = [num_examples for num_examples, _ in metrics]\n",
        "\n",
        "    # Aggregate and return custom metric (weighted average)\n",
        "    return {\"accuracy\": sum(accuracies) / sum(examples)}"
      ],
      "metadata": {
        "id": "t7ICh1g0A0-x"
      },
      "execution_count": null,
      "outputs": []
    },
    {
      "cell_type": "code",
      "source": [
        "def get_parameters(net) -> List[np.ndarray]:\n",
        "    return [val.cpu().numpy() for _, val in net.state_dict().items()]\n",
        "\n",
        "\n",
        "def set_parameters(net, parameters: List[np.ndarray]):\n",
        "    params_dict = zip(net.state_dict().keys(), parameters)\n",
        "    state_dict = OrderedDict({k: torch.Tensor(v) for k, v in params_dict})\n",
        "    net.load_state_dict(state_dict, strict=True)\n",
        "\n",
        "total_loss= []\n",
        "\n",
        "class FlowerClient(fl.client.NumPyClient):\n",
        "    def __init__(self, net, trainloader, valloader):\n",
        "        self.net = net\n",
        "        self.trainloader = trainloader\n",
        "        self.valloader = valloader\n",
        "        self.total_loss=list()\n",
        "\n",
        "    def get_parameters(self, config):\n",
        "        return get_parameters(self.net)\n",
        "\n",
        "    def fit(self, parameters, config):\n",
        "        set_parameters(self.net, parameters)\n",
        "        train(self.net, self.trainloader, epochs=1)\n",
        "        return get_parameters(self.net), len(self.trainloader), {}\n",
        "\n",
        "    def evaluate(self, parameters, config):\n",
        "        set_parameters(self.net, parameters)\n",
        "        loss, accuracy = test(self.net, self.valloader)\n",
        "        self.total_loss.append(loss)\n",
        "        return float(loss), len(self.valloader), {\"accuracy\": float(accuracy)}\n",
        "    def get_value(self):\n",
        "      print(\"value is \", self.total_loss)\n",
        "\n",
        "\n",
        "def client_fn(cid: str) -> FlowerClient:\n",
        "    \"\"\"Create a Flower client representing a single organization.\"\"\"\n",
        "\n",
        "    # Load model\n",
        "    net = Net().to(DEVICE)\n",
        "\n",
        "\n",
        "    trainloader = trainloaders[int(cid)]\n",
        "    valloader = valloaders[int(cid)]\n",
        "    cl = FlowerClient(net, trainloader, valloader)\n",
        "    cl.get_value()\n",
        "\n",
        "    return cl\n",
        "\n",
        "\n",
        "def weighted_average(metrics: List[Tuple[int, Metrics]]) -> Metrics:\n",
        "    # Multiply accuracy of each client by number of examples used\n",
        "    accuracies = [num_examples * m[\"accuracy\"] for num_examples, m in metrics]\n",
        "    examples = [num_examples for num_examples, _ in metrics]\n",
        "\n",
        "    # Aggregate and return custom metric (weighted average)\n",
        "    return {\"accuracy\": sum(accuracies) / sum(examples)}\n",
        "\n",
        "# Create FedAvg strategy\n",
        "strategy = fl.server.strategy.FedAvg(\n",
        "    fraction_fit=1.0,  # Sample 100% of available clients for training\n",
        "    fraction_evaluate=0.5,  # Sample 50% of available clients for evaluation\n",
        "    min_fit_clients=5,  # Never sample less than 10 clients for training\n",
        "    min_evaluate_clients=3,  # Never sample less than 5 clients for evaluation\n",
        "    min_available_clients=5,  # Wait until all 10 clients are available\n",
        "    evaluate_metrics_aggregation_fn=weighted_average,  # <-- pass the metric aggregation function\n",
        "\n",
        ")\n",
        "\n",
        "# Specify client resources if you need GPU (defaults to 1 CPU and 0 GPU)\n",
        "client_resources = None\n",
        "if DEVICE.type == \"cuda\":\n",
        "    client_resources = {\"num_gpus\": 1}\n",
        "\n",
        "\n",
        "NUM_CLIENTS = 5\n",
        "num_rounds = 4\n",
        "# Start simulation\n",
        "fl.simulation.start_simulation(\n",
        "    client_fn=client_fn,\n",
        "    num_clients=NUM_CLIENTS,\n",
        "    config=fl.server.ServerConfig(num_rounds=num_rounds),\n",
        "    strategy=strategy,\n",
        "    client_resources=client_resources,\n",
        ")"
      ],
      "metadata": {
        "colab": {
          "base_uri": "https://localhost:8080/"
        },
        "id": "WJT_ytrgjNKV",
        "outputId": "019e1c57-4822-4213-f14b-59a260b4f726"
      },
      "execution_count": null,
      "outputs": [
        {
          "output_type": "stream",
          "name": "stderr",
          "text": [
            "INFO flwr 2023-09-19 17:36:26,536 | app.py:175 | Starting Flower simulation, config: ServerConfig(num_rounds=4, round_timeout=None)\n",
            "INFO:flwr:Starting Flower simulation, config: ServerConfig(num_rounds=4, round_timeout=None)\n",
            "2023-09-19 17:36:29,467\tINFO worker.py:1621 -- Started a local Ray instance.\n",
            "INFO flwr 2023-09-19 17:36:33,516 | app.py:210 | Flower VCE: Ray initialized with resources: {'node:__internal_head__': 1.0, 'object_store_memory': 3919160524.0, 'GPU': 1.0, 'node:172.28.0.12': 1.0, 'memory': 7838321051.0, 'CPU': 2.0}\n",
            "INFO:flwr:Flower VCE: Ray initialized with resources: {'node:__internal_head__': 1.0, 'object_store_memory': 3919160524.0, 'GPU': 1.0, 'node:172.28.0.12': 1.0, 'memory': 7838321051.0, 'CPU': 2.0}\n",
            "INFO flwr 2023-09-19 17:36:33,525 | app.py:218 | No `client_resources` specified. Using minimal resources for clients.\n",
            "INFO:flwr:No `client_resources` specified. Using minimal resources for clients.\n",
            "INFO flwr 2023-09-19 17:36:33,528 | app.py:224 | Flower VCE: Resources for each Virtual Client: {'num_cpus': 1, 'num_gpus': 0.0}\n",
            "INFO:flwr:Flower VCE: Resources for each Virtual Client: {'num_cpus': 1, 'num_gpus': 0.0}\n",
            "INFO flwr 2023-09-19 17:36:33,612 | app.py:270 | Flower VCE: Creating VirtualClientEngineActorPool with 2 actors\n",
            "INFO:flwr:Flower VCE: Creating VirtualClientEngineActorPool with 2 actors\n",
            "INFO flwr 2023-09-19 17:36:33,623 | server.py:89 | Initializing global parameters\n",
            "INFO:flwr:Initializing global parameters\n",
            "INFO flwr 2023-09-19 17:36:33,634 | server.py:276 | Requesting initial parameters from one random client\n",
            "INFO:flwr:Requesting initial parameters from one random client\n",
            "\u001b[2m\u001b[36m(pid=2201)\u001b[0m 2023-09-19 17:36:38.967067: W tensorflow/compiler/tf2tensorrt/utils/py_utils.cc:38] TF-TRT Warning: Could not find TensorRT\n",
            "INFO flwr 2023-09-19 17:36:43,499 | server.py:280 | Received initial parameters from one random client\n",
            "INFO:flwr:Received initial parameters from one random client\n",
            "INFO flwr 2023-09-19 17:36:43,507 | server.py:91 | Evaluating initial parameters\n",
            "INFO:flwr:Evaluating initial parameters\n",
            "INFO flwr 2023-09-19 17:36:43,512 | server.py:104 | FL starting\n",
            "INFO:flwr:FL starting\n",
            "DEBUG flwr 2023-09-19 17:36:43,517 | server.py:222 | fit_round 1: strategy sampled 5 clients (out of 5)\n",
            "DEBUG:flwr:fit_round 1: strategy sampled 5 clients (out of 5)\n"
          ]
        },
        {
          "output_type": "stream",
          "name": "stdout",
          "text": [
            "\u001b[2m\u001b[36m(DefaultActor pid=2201)\u001b[0m value is  []\n",
            "\u001b[2m\u001b[36m(DefaultActor pid=2201)\u001b[0m value is  []\n",
            "\u001b[2m\u001b[36m(DefaultActor pid=2201)\u001b[0m value is  []\u001b[32m [repeated 2x across cluster] (Ray deduplicates logs by default. Set RAY_DEDUP_LOGS=0 to disable log deduplication, or see https://docs.ray.io/en/master/ray-observability/ray-logging.html#log-deduplication for more options.)\u001b[0m\n",
            "\u001b[2m\u001b[36m(DefaultActor pid=2201)\u001b[0m value is  []\u001b[32m [repeated 2x across cluster]\u001b[0m\n"
          ]
        },
        {
          "output_type": "stream",
          "name": "stderr",
          "text": [
            "DEBUG flwr 2023-09-19 17:37:14,690 | server.py:236 | fit_round 1 received 5 results and 0 failures\n",
            "DEBUG:flwr:fit_round 1 received 5 results and 0 failures\n",
            "WARNING flwr 2023-09-19 17:37:14,709 | fedavg.py:242 | No fit_metrics_aggregation_fn provided\n",
            "WARNING:flwr:No fit_metrics_aggregation_fn provided\n",
            "DEBUG flwr 2023-09-19 17:37:14,715 | server.py:173 | evaluate_round 1: strategy sampled 3 clients (out of 5)\n",
            "DEBUG:flwr:evaluate_round 1: strategy sampled 3 clients (out of 5)\n"
          ]
        },
        {
          "output_type": "stream",
          "name": "stdout",
          "text": [
            "\u001b[2m\u001b[36m(DefaultActor pid=2201)\u001b[0m value is  []\n",
            "\u001b[2m\u001b[36m(DefaultActor pid=2200)\u001b[0m value is  []\n"
          ]
        },
        {
          "output_type": "stream",
          "name": "stderr",
          "text": [
            "DEBUG flwr 2023-09-19 17:37:17,296 | server.py:187 | evaluate_round 1 received 3 results and 0 failures\n",
            "DEBUG:flwr:evaluate_round 1 received 3 results and 0 failures\n",
            "DEBUG flwr 2023-09-19 17:37:17,303 | server.py:222 | fit_round 2: strategy sampled 5 clients (out of 5)\n",
            "DEBUG:flwr:fit_round 2: strategy sampled 5 clients (out of 5)\n"
          ]
        },
        {
          "output_type": "stream",
          "name": "stdout",
          "text": [
            "\u001b[2m\u001b[36m(DefaultActor pid=2201)\u001b[0m value is  []\u001b[32m [repeated 4x across cluster]\u001b[0m\n",
            "\u001b[2m\u001b[36m(DefaultActor pid=2201)\u001b[0m value is  []\u001b[32m [repeated 2x across cluster]\u001b[0m\n"
          ]
        },
        {
          "output_type": "stream",
          "name": "stderr",
          "text": [
            "DEBUG flwr 2023-09-19 17:37:45,961 | server.py:236 | fit_round 2 received 5 results and 0 failures\n",
            "DEBUG:flwr:fit_round 2 received 5 results and 0 failures\n",
            "DEBUG flwr 2023-09-19 17:37:45,981 | server.py:173 | evaluate_round 2: strategy sampled 3 clients (out of 5)\n",
            "DEBUG:flwr:evaluate_round 2: strategy sampled 3 clients (out of 5)\n"
          ]
        },
        {
          "output_type": "stream",
          "name": "stdout",
          "text": [
            "\u001b[2m\u001b[36m(DefaultActor pid=2201)\u001b[0m value is  []\n",
            "\u001b[2m\u001b[36m(DefaultActor pid=2200)\u001b[0m value is  []\n"
          ]
        },
        {
          "output_type": "stream",
          "name": "stderr",
          "text": [
            "DEBUG flwr 2023-09-19 17:37:48,501 | server.py:187 | evaluate_round 2 received 3 results and 0 failures\n",
            "DEBUG:flwr:evaluate_round 2 received 3 results and 0 failures\n",
            "DEBUG flwr 2023-09-19 17:37:48,507 | server.py:222 | fit_round 3: strategy sampled 5 clients (out of 5)\n",
            "DEBUG:flwr:fit_round 3: strategy sampled 5 clients (out of 5)\n"
          ]
        },
        {
          "output_type": "stream",
          "name": "stdout",
          "text": [
            "\u001b[2m\u001b[36m(DefaultActor pid=2201)\u001b[0m value is  []\u001b[32m [repeated 4x across cluster]\u001b[0m\n",
            "\u001b[2m\u001b[36m(DefaultActor pid=2201)\u001b[0m value is  []\u001b[32m [repeated 2x across cluster]\u001b[0m\n"
          ]
        },
        {
          "output_type": "stream",
          "name": "stderr",
          "text": [
            "DEBUG flwr 2023-09-19 17:38:15,360 | server.py:236 | fit_round 3 received 5 results and 0 failures\n",
            "DEBUG:flwr:fit_round 3 received 5 results and 0 failures\n",
            "DEBUG flwr 2023-09-19 17:38:15,388 | server.py:173 | evaluate_round 3: strategy sampled 3 clients (out of 5)\n",
            "DEBUG:flwr:evaluate_round 3: strategy sampled 3 clients (out of 5)\n"
          ]
        },
        {
          "output_type": "stream",
          "name": "stdout",
          "text": [
            "\u001b[2m\u001b[36m(DefaultActor pid=2201)\u001b[0m value is  []\n",
            "\u001b[2m\u001b[36m(DefaultActor pid=2200)\u001b[0m value is  []\n"
          ]
        },
        {
          "output_type": "stream",
          "name": "stderr",
          "text": [
            "DEBUG flwr 2023-09-19 17:38:19,686 | server.py:187 | evaluate_round 3 received 3 results and 0 failures\n",
            "DEBUG:flwr:evaluate_round 3 received 3 results and 0 failures\n",
            "DEBUG flwr 2023-09-19 17:38:19,693 | server.py:222 | fit_round 4: strategy sampled 5 clients (out of 5)\n",
            "DEBUG:flwr:fit_round 4: strategy sampled 5 clients (out of 5)\n"
          ]
        },
        {
          "output_type": "stream",
          "name": "stdout",
          "text": [
            "\u001b[2m\u001b[36m(DefaultActor pid=2201)\u001b[0m value is  []\u001b[32m [repeated 4x across cluster]\u001b[0m\n",
            "\u001b[2m\u001b[36m(DefaultActor pid=2201)\u001b[0m value is  []\u001b[32m [repeated 2x across cluster]\u001b[0m\n"
          ]
        },
        {
          "output_type": "stream",
          "name": "stderr",
          "text": [
            "DEBUG flwr 2023-09-19 17:38:45,286 | server.py:236 | fit_round 4 received 5 results and 0 failures\n",
            "DEBUG:flwr:fit_round 4 received 5 results and 0 failures\n",
            "DEBUG flwr 2023-09-19 17:38:45,308 | server.py:173 | evaluate_round 4: strategy sampled 3 clients (out of 5)\n",
            "DEBUG:flwr:evaluate_round 4: strategy sampled 3 clients (out of 5)\n"
          ]
        },
        {
          "output_type": "stream",
          "name": "stdout",
          "text": [
            "\u001b[2m\u001b[36m(DefaultActor pid=2201)\u001b[0m value is  []\n",
            "\u001b[2m\u001b[36m(DefaultActor pid=2200)\u001b[0m value is  []\n"
          ]
        },
        {
          "output_type": "stream",
          "name": "stderr",
          "text": [
            "DEBUG flwr 2023-09-19 17:38:48,955 | server.py:187 | evaluate_round 4 received 3 results and 0 failures\n",
            "DEBUG:flwr:evaluate_round 4 received 3 results and 0 failures\n",
            "INFO flwr 2023-09-19 17:38:48,964 | server.py:153 | FL finished in 125.44685991700004\n",
            "INFO:flwr:FL finished in 125.44685991700004\n",
            "INFO flwr 2023-09-19 17:38:48,968 | app.py:225 | app_fit: losses_distributed [(1, 0.014940980536242326), (2, 0.006084259019440247), (3, 0.004524895008912103), (4, 0.003815805617875109)]\n",
            "INFO:flwr:app_fit: losses_distributed [(1, 0.014940980536242326), (2, 0.006084259019440247), (3, 0.004524895008912103), (4, 0.003815805617875109)]\n",
            "INFO flwr 2023-09-19 17:38:48,973 | app.py:226 | app_fit: metrics_distributed_fit {}\n",
            "INFO:flwr:app_fit: metrics_distributed_fit {}\n",
            "INFO flwr 2023-09-19 17:38:48,977 | app.py:227 | app_fit: metrics_distributed {'accuracy': [(1, 0.89875), (2, 0.9447222222222222), (3, 0.9566666666666667), (4, 0.9622222222222222)]}\n",
            "INFO:flwr:app_fit: metrics_distributed {'accuracy': [(1, 0.89875), (2, 0.9447222222222222), (3, 0.9566666666666667), (4, 0.9622222222222222)]}\n",
            "INFO flwr 2023-09-19 17:38:48,979 | app.py:228 | app_fit: losses_centralized []\n",
            "INFO:flwr:app_fit: losses_centralized []\n",
            "INFO flwr 2023-09-19 17:38:48,981 | app.py:229 | app_fit: metrics_centralized {}\n",
            "INFO:flwr:app_fit: metrics_centralized {}\n"
          ]
        },
        {
          "output_type": "execute_result",
          "data": {
            "text/plain": [
              "History (loss, distributed):\n",
              "\tround 1: 0.014940980536242326\n",
              "\tround 2: 0.006084259019440247\n",
              "\tround 3: 0.004524895008912103\n",
              "\tround 4: 0.003815805617875109\n",
              "History (metrics, distributed, evaluate):\n",
              "{'accuracy': [(1, 0.89875), (2, 0.9447222222222222), (3, 0.9566666666666667), (4, 0.9622222222222222)]}"
            ]
          },
          "metadata": {},
          "execution_count": 12
        }
      ]
    },
    {
      "cell_type": "code",
      "source": [
        "\n",
        "class FlowerClient(fl.client.NumPyClient):\n",
        "\n",
        "    def __init__(self, cid, net, trainloader, valloader):\n",
        "        self.cid = cid\n",
        "        self.net = net\n",
        "        self.trainloader = trainloader\n",
        "        self.valloader = valloader\n",
        "        self.payment = list()\n",
        "        self.node_train_loss = list()\n",
        "        self.node_valid_loss = list()\n",
        "        self.server_round =1\n",
        "        self.RESOURCE = np.array([[self.cid,normalize(random.randint(BANDWIDTH_MIN,BANDWIDTH_MAX),BANDWIDTH_MIN,BANDWIDTH_MAX), normalize(random.randint(DATA_MIN,DATA_MAX),DATA_MIN,DATA_MAX)]] , dtype=float) # ID,Bandwidth , Data\n",
        "\n",
        "\n",
        "\n",
        "    # return res. as dictionary here\n",
        "    def get_properties(self, config: Config) -> Dict[str, Scalar]:\n",
        "        retDict = {\"client_id\": self.cid,\"bandwidth\" : self.RESOURCE[0][1], \"data\" : self.RESOURCE[0][2]}\n",
        "        return retDict\n",
        "\n",
        "\n",
        "\n",
        "    # Return the current local model parameters\n",
        "    def get_parameters(self, config):\n",
        "        print(f\"[Client {self.cid}] get_parameters\")\n",
        "        return get_parameters(self.net)\n",
        "\n",
        "\n",
        "\n",
        "    # Receive model parameters from the server, train the model parameters on the local data, and return the (updated) model parameters to the server\n",
        "    def fit(self, parameters, config):\n",
        "\n",
        "        # Read values from config\n",
        "        server_round = 1 #config[\"server_round\"]\n",
        "        local_epochs = 5 #config[\"local_epochs\"]\n",
        "\n",
        "        score = config[\"bid_score\"]\n",
        "\n",
        "\n",
        "        if \"train\" in config:\n",
        "          print(str(self.cid) + \" -> Please try train\")\n",
        "          self.payment.append(config[\"payment\"])\n",
        "          print(\"Payment Received\",self.payment)\n",
        "\n",
        "\n",
        "          # Use values provided by the config\n",
        "          print(f\"[Client {self.cid}, round {server_round}] fit, config: {config}\")\n",
        "\n",
        "          set_parameters(self.net, parameters)\n",
        "          node_loss = train(self.net, self.trainloader, epochs=local_epochs)\n",
        "\n",
        "          values_train_loss = [arr.item() for arr in node_loss]\n",
        "\n",
        "          print(\"Values of each node loss\",values_train_loss)\n",
        "          self.node_train_loss.append(values_train_loss)\n",
        "          plt.plot(self.node_train_loss[0], label=\"Training Loss\" )\n",
        "          plt.title(f'Node {self.cid}')\n",
        "          plt.xticks(np.arange(local_epochs))\n",
        "          plt.savefig(f\"MNIST_Node_{self.cid}.png\")\n",
        "          plt.show()\n",
        "\n",
        "\n",
        "        else:\n",
        "\n",
        "          print(\"skip training\")\n",
        "\n",
        "        results = dict()\n",
        "        results[\"node_train_loss\"] = self.node_train_loss[0]\n",
        "\n",
        "\n",
        "\n",
        "        return get_parameters(self.net), len(self.trainloader), {}\n",
        "\n",
        "\n",
        "\n",
        "    # : Receive model parameters from the server, evaluate the model parameters on the local data, and return the evaluation result to the server\n",
        "    def evaluate(self, parameters, config):\n",
        "\n",
        "        print(f\"[Client {self.cid}] evaluate, config: {config}\")\n",
        "        set_parameters(self.net, parameters)\n",
        "\n",
        "        loss, accuracy = test(self.net, self.valloader)\n",
        "\n",
        "        return float(loss), len(self.valloader), {\"accuracy\": float(accuracy)}\n",
        "\n",
        "\n",
        "    def get_node_losses(self):\n",
        "\n",
        "      return self.node_train_loss\n",
        "\n",
        "\n",
        "\n",
        "\n",
        "def fit_config(server_round: int):\n",
        "    \"\"\"Return training configuration dict for each round.\n",
        "    \"\"\"\n",
        "\n",
        "    config = {\n",
        "\n",
        "        \"server_round\": server_round,  # The current round of federated learning\n",
        "        \"local_epochs\": 1 if server_round < 2 else 2,  #\n",
        "    }\n",
        "    return config\n",
        "\n",
        "\n",
        "\n",
        "\n",
        "def client_fn(cid: str) -> FlowerClient:\n",
        "    \"\"\"Create a Flower client representing a single organization.\"\"\"\n",
        "    net = Net().to(DEVICE)\n",
        "\n",
        "    trainloader = trainloaders[int(cid)]\n",
        "    valloader = valloaders[int(cid)]\n",
        "\n",
        "    # Create a  single Flower client representing a single organization\n",
        "    cl = FlowerClient(cid, net, trainloader, valloader)\n",
        "\n",
        "    return cl\n",
        "\n",
        "\n",
        "\n",
        "class MyStrategy(fl.server.strategy.FedAvg):\n",
        "    #def initialize_parameters(self, client_manager):\n",
        "        # Your implementation here\n",
        "\n",
        "    def configure_fit(\n",
        "        self, server_round: int, parameters: Parameters, client_manager: ClientManager) -> List[Tuple[ClientProxy, FitIns]]:\n",
        "        all_connected_clients_dict = client_manager.all()\n",
        "        all_client_properties = list()\n",
        "\n",
        "        for dict_key in all_connected_clients_dict.keys():\n",
        "          config = {}\n",
        "          ins = GetPropertiesIns(config=config)\n",
        "          res = all_connected_clients_dict[dict_key].get_properties(ins, 100)\n",
        "          res = (res.properties)\n",
        "          all_client_properties.append(res)\n",
        "\n",
        "        # preprocess to calculte bid Score  and p_value\n",
        "\n",
        "        client_id = [[client_id[\"client_id\"]] for client_id in  all_client_properties]\n",
        "        bandwidth_data = [[d[\"bandwidth\"],d[\"data\"]] for d in all_client_properties]\n",
        "        bandwidth_data = np.asarray(bandwidth_data)\n",
        "        print(\"bandwidth_data\",bandwidth_data)\n",
        "\n",
        "\n",
        "        \"\"\"\n",
        "        # NE to calculate Payment Allocation\n",
        "\n",
        "        \"\"\"\n",
        "        scoring_board = list()\n",
        "        p_client = list()\n",
        "        payment = list()\n",
        "        for q in bandwidth_data:\n",
        "\n",
        "          p_value, total_resource_cost = calculate_p(q)\n",
        "          p_client.append(p_value)\n",
        "\n",
        "          client_bid_socre = scoring_function(q,p_value)\n",
        "\n",
        "          \"\"\" NE \"\"\"\n",
        "          node_payment = client_bid_socre  + integ(total_resource_cost,client_bid_socre)\n",
        "\n",
        "          \"\"\" NE \"\"\"\n",
        "\n",
        "          scoring_board.append(client_bid_socre)\n",
        "          payment.append(node_payment*100)\n",
        "          print(client_bid_socre, node_payment)\n",
        "\n",
        "\n",
        "        score_dic = [{\"client_id\":id , \"bid_score\" : score , \"p_value\" : p , \"payment\" : node_payment } for id, score , p ,node_payment  in zip(client_id,scoring_board, p_client,payment)]\n",
        "        print(\"Client Scoring Board\",score_dic)\n",
        "\n",
        "        top_k = sorted(score_dic, key=lambda x:x[\"bid_score\"], reverse =True)\n",
        "        top_k = top_k[:K]\n",
        "        print(\"The Client with Higher Score\", top_k)\n",
        "\n",
        "\n",
        "        # Selecting the Top k for Training\n",
        "        client_to_train = list()\n",
        "        top_client_ids = [[client_id[\"client_id\"]] for client_id in  top_k]\n",
        "\n",
        "\n",
        "        # chosing client for training\n",
        "        for client in top_k:\n",
        "\n",
        "\n",
        "          client_id = client[\"client_id\"]\n",
        "          payment = client[\"payment\"]\n",
        "          score = client[\"bid_score\"]\n",
        "\n",
        "          proxy = all_connected_clients_dict[str(client_id[0][0])]\n",
        "          # print(\"proxy\", proxy)\n",
        "\n",
        "          # Create a dict to send instruction\n",
        "          dic = {\"train\" : True,\"bid_score\" :score ,\"payment\" : payment}\n",
        "\n",
        "          fitIn = FitIns(parameters=parameters, config=dic)\n",
        "          client_to_train.append([proxy, fitIn])\n",
        "\n",
        "        print(\"Returing to CLient to Train\")\n",
        "        return client_to_train\n",
        "\n",
        "\n",
        "\n",
        "    def aggregate_fit(self, server_round, results, failures):\n",
        "        aggregated_parameters, aggregated_metrics = super().aggregate_fit(server_round, results, failures)\n",
        "\n",
        "        if aggregated_parameters is not None:\n",
        "          # Convert `Parameters` to `List[np.ndarray]`\n",
        "          aggregated_ndarrays: List[np.ndarray] = fl.common.parameters_to_ndarrays(aggregated_parameters)\n",
        "\n",
        "          # Save aggregated_ndarrays\n",
        "          print(f\"Saving round {server_round} aggregated_ndarrays...\")\n",
        "          np.savez(f\"round-{server_round}-weights.npz\", *aggregated_ndarrays)\n",
        "\n",
        "        print(\"Server round -> \" + str(server_round))\n",
        "        # for result in results:\n",
        "        #   print(\"Here is the result\", str(result.FitRes))\n",
        "\n",
        "        return aggregated_parameters, aggregated_metrics\n",
        "\n",
        "\n",
        "    #def configure_evaluate(self, server_round, parameters, client_manager):\n",
        "        # Your implementation here\n",
        "\n",
        "    # def aggregate_evaluate(self, server_round, results, failures):\n",
        "        # Your implementation here\n",
        "\n",
        "    #def evaluate(self, parameters):\n",
        "        # Your implementation here\n",
        "NUM_CLIENTS = 5\n",
        "NUM_ROUND = 4\n",
        "\n",
        "\n",
        "\n",
        "def weighted_average(metrics: List[Tuple[int, Metrics]]) -> Metrics:\n",
        "    # Multiply accuracy of each client by number of examples used\n",
        "    accuracies = [num_examples * m[\"accuracy\"] for num_examples, m in metrics]\n",
        "    examples = [num_examples for num_examples, _ in metrics]\n",
        "\n",
        "    # Aggregate and return custom metric (weighted average)\n",
        "    return {\"accuracy\": sum(accuracies) / sum(examples)}\n",
        "\n",
        "\n",
        "\n",
        "strategy = MyStrategy(\n",
        "    fraction_fit=1,\n",
        "    fraction_evaluate=1,\n",
        "    min_fit_clients=NUM_CLIENTS,\n",
        "    min_evaluate_clients=NUM_CLIENTS,\n",
        "    min_available_clients=NUM_CLIENTS,\n",
        "    evaluate_metrics_aggregation_fn=weighted_average,  # <-- pass the metric aggregation function\n",
        "\n",
        "    initial_parameters=fl.common.ndarrays_to_parameters(get_parameters(Net())),\n",
        "    # evaluate_fn=evaluate,\n",
        "    on_fit_config_fn=fit_config,  # Pass the fit_config function\n",
        ")\n",
        "\n",
        "\n",
        "\n",
        "\n",
        "client_resources = None\n",
        "if DEVICE.type == \"cuda\":\n",
        "    client_resources = {\"num_gpus\": 1}\n",
        "\n",
        "\n",
        "fl.simulation.start_simulation(\n",
        "    client_fn=client_fn,\n",
        "    num_clients=NUM_CLIENTS,\n",
        "    config=fl.server.ServerConfig(num_rounds=NUM_ROUND),\n",
        "    strategy=strategy,\n",
        "    client_resources=client_resources,\n",
        ")\n"
      ],
      "metadata": {
        "id": "uDYNQdM2BUin",
        "colab": {
          "base_uri": "https://localhost:8080/"
        },
        "outputId": "7c8abe7f-411f-48d7-a79a-377c1a6172e5"
      },
      "execution_count": null,
      "outputs": [
        {
          "output_type": "stream",
          "name": "stderr",
          "text": [
            "INFO flwr 2023-09-19 17:38:49,096 | app.py:175 | Starting Flower simulation, config: ServerConfig(num_rounds=4, round_timeout=None)\n",
            "INFO:flwr:Starting Flower simulation, config: ServerConfig(num_rounds=4, round_timeout=None)\n",
            "2023-09-19 17:38:53,441\tINFO worker.py:1621 -- Started a local Ray instance.\n",
            "INFO flwr 2023-09-19 17:38:56,008 | app.py:210 | Flower VCE: Ray initialized with resources: {'memory': 7822725120.0, 'CPU': 2.0, 'node:__internal_head__': 1.0, 'object_store_memory': 3911362560.0, 'node:172.28.0.12': 1.0, 'GPU': 1.0}\n",
            "INFO:flwr:Flower VCE: Ray initialized with resources: {'memory': 7822725120.0, 'CPU': 2.0, 'node:__internal_head__': 1.0, 'object_store_memory': 3911362560.0, 'node:172.28.0.12': 1.0, 'GPU': 1.0}\n",
            "INFO flwr 2023-09-19 17:38:56,019 | app.py:218 | No `client_resources` specified. Using minimal resources for clients.\n",
            "INFO:flwr:No `client_resources` specified. Using minimal resources for clients.\n",
            "INFO flwr 2023-09-19 17:38:56,025 | app.py:224 | Flower VCE: Resources for each Virtual Client: {'num_cpus': 1, 'num_gpus': 0.0}\n",
            "INFO:flwr:Flower VCE: Resources for each Virtual Client: {'num_cpus': 1, 'num_gpus': 0.0}\n",
            "INFO flwr 2023-09-19 17:38:56,059 | app.py:270 | Flower VCE: Creating VirtualClientEngineActorPool with 2 actors\n",
            "INFO:flwr:Flower VCE: Creating VirtualClientEngineActorPool with 2 actors\n",
            "INFO flwr 2023-09-19 17:38:56,063 | server.py:89 | Initializing global parameters\n",
            "INFO:flwr:Initializing global parameters\n",
            "INFO flwr 2023-09-19 17:38:56,069 | server.py:272 | Using initial parameters provided by strategy\n",
            "INFO:flwr:Using initial parameters provided by strategy\n",
            "INFO flwr 2023-09-19 17:38:56,073 | server.py:91 | Evaluating initial parameters\n",
            "INFO:flwr:Evaluating initial parameters\n",
            "INFO flwr 2023-09-19 17:38:56,079 | server.py:104 | FL starting\n",
            "INFO:flwr:FL starting\n",
            "\u001b[2m\u001b[36m(pid=3032)\u001b[0m 2023-09-19 17:38:59.972293: W tensorflow/compiler/tf2tensorrt/utils/py_utils.cc:38] TF-TRT Warning: Could not find TensorRT\n",
            "DEBUG flwr 2023-09-19 17:39:07,433 | server.py:222 | fit_round 1: strategy sampled 2 clients (out of 5)\n",
            "DEBUG:flwr:fit_round 1: strategy sampled 2 clients (out of 5)\n"
          ]
        },
        {
          "output_type": "stream",
          "name": "stdout",
          "text": [
            "bandwidth_data [[0.88421053 0.52375   ]\n",
            " [0.95789474 0.65875   ]\n",
            " [0.37894737 0.865     ]\n",
            " [0.2        0.7575    ]\n",
            " [0.8        0.50925   ]]\n",
            "The Integral Value is =  0.20451441264288714\n",
            "1.0339802631578947 1.2384946758007818\n",
            "The Integral Value is =  0.3173205713125238\n",
            "1.1483223684210526 1.4656429397335764\n",
            "The Integral Value is =  0.13991820718277445\n",
            "0.9919736842105263 1.1318918913933007\n",
            "The Integral Value is =  0.06465762348486327\n",
            "0.84875 0.9134076234848633\n",
            "The Integral Value is =  0.1681836222227852\n",
            "0.9946250000000001 1.1628086222227854\n",
            "Client Scoring Board [{'client_id': ['0'], 'bid_score': 1.0339802631578947, 'p_value': 0.33, 'payment': 123.84946758007817}, {'client_id': ['1'], 'bid_score': 1.1483223684210526, 'p_value': 0.34, 'payment': 146.56429397335765}, {'client_id': ['2'], 'bid_score': 0.9919736842105263, 'p_value': 0.37, 'payment': 113.18918913933007}, {'client_id': ['3'], 'bid_score': 0.84875, 'p_value': 0.37, 'payment': 91.34076234848632}, {'client_id': ['4'], 'bid_score': 0.9946250000000001, 'p_value': 0.34, 'payment': 116.28086222227853}]\n",
            "The Client with Higher Score [{'client_id': ['1'], 'bid_score': 1.1483223684210526, 'p_value': 0.34, 'payment': 146.56429397335765}, {'client_id': ['0'], 'bid_score': 1.0339802631578947, 'p_value': 0.33, 'payment': 123.84946758007817}]\n",
            "Returing to CLient to Train\n",
            "\u001b[2m\u001b[36m(DefaultActor pid=3032)\u001b[0m 1 -> Please try train\n",
            "\u001b[2m\u001b[36m(DefaultActor pid=3032)\u001b[0m Payment Received [146.56429397335765]\n",
            "\u001b[2m\u001b[36m(DefaultActor pid=3032)\u001b[0m [Client 1, round 1] fit, config: {'train': True, 'bid_score': 1.1483223684210526, 'payment': 146.56429397335765}\n",
            "\u001b[2m\u001b[36m(DefaultActor pid=3032)\u001b[0m Values of each node loss [0.03317541256546974, 0.013824698515236378, 0.011084232479333878, 0.00963875837624073, 0.008663356304168701]\n",
            "\u001b[2m\u001b[36m(DefaultActor pid=3030)\u001b[0m 0 -> Please try train\n",
            "\u001b[2m\u001b[36m(DefaultActor pid=3030)\u001b[0m Payment Received [123.84946758007817]\n",
            "\u001b[2m\u001b[36m(DefaultActor pid=3030)\u001b[0m [Client 0, round 1] fit, config: {'train': True, 'bid_score': 1.0339802631578947, 'payment': 123.84946758007817}\n",
            "\u001b[2m\u001b[36m(DefaultActor pid=3032)\u001b[0m Figure(640x480)\n"
          ]
        },
        {
          "output_type": "stream",
          "name": "stderr",
          "text": [
            "DEBUG flwr 2023-09-19 17:40:02,706 | server.py:236 | fit_round 1 received 2 results and 0 failures\n",
            "DEBUG:flwr:fit_round 1 received 2 results and 0 failures\n",
            "WARNING flwr 2023-09-19 17:40:02,720 | fedavg.py:242 | No fit_metrics_aggregation_fn provided\n",
            "WARNING:flwr:No fit_metrics_aggregation_fn provided\n",
            "DEBUG flwr 2023-09-19 17:40:02,732 | server.py:173 | evaluate_round 1: strategy sampled 5 clients (out of 5)\n",
            "DEBUG:flwr:evaluate_round 1: strategy sampled 5 clients (out of 5)\n"
          ]
        },
        {
          "output_type": "stream",
          "name": "stdout",
          "text": [
            "Saving round 1 aggregated_ndarrays...\n",
            "Server round -> 1\n",
            "\u001b[2m\u001b[36m(DefaultActor pid=3030)\u001b[0m [Client 1] evaluate, config: {}\n",
            "\u001b[2m\u001b[36m(DefaultActor pid=3030)\u001b[0m Values of each node loss [0.03366309031844139, 0.013856478966772556, 0.0109803332015872, 0.009494184516370296, 0.008254997432231903]\n",
            "\u001b[2m\u001b[36m(DefaultActor pid=3030)\u001b[0m Figure(640x480)\n"
          ]
        },
        {
          "output_type": "stream",
          "name": "stderr",
          "text": [
            "DEBUG flwr 2023-09-19 17:40:06,886 | server.py:187 | evaluate_round 1 received 5 results and 0 failures\n",
            "DEBUG:flwr:evaluate_round 1 received 5 results and 0 failures\n",
            "DEBUG flwr 2023-09-19 17:40:07,781 | server.py:222 | fit_round 2: strategy sampled 2 clients (out of 5)\n",
            "DEBUG:flwr:fit_round 2: strategy sampled 2 clients (out of 5)\n"
          ]
        },
        {
          "output_type": "stream",
          "name": "stdout",
          "text": [
            "bandwidth_data [[0.11578947 0.39375   ]\n",
            " [0.86315789 0.19725   ]\n",
            " [0.30526316 0.957     ]\n",
            " [0.65263158 0.65225   ]\n",
            " [0.37894737 0.802     ]]\n",
            "The Integral Value is =  0.013184174941161432\n",
            "0.6147697368421052 0.6279539117832666\n",
            "The Integral Value is =  0.09169261192873865\n",
            "0.8502039473684211 0.9418965592971598\n",
            "The Integral Value is =  0.1419703369377752\n",
            "1.0011315789473683 1.1431019158851434\n",
            "The Integral Value is =  0.1643170773585359\n",
            "1.0024407894736842 1.16675786683222\n",
            "The Integral Value is =  0.12142564872520892\n",
            "0.9604736842105264 1.0818993329357354\n",
            "Client Scoring Board [{'client_id': ['0'], 'bid_score': 0.6147697368421052, 'p_value': 0.36, 'payment': 62.79539117832667}, {'client_id': ['1'], 'bid_score': 0.8502039473684211, 'p_value': 0.32, 'payment': 94.18965592971598}, {'client_id': ['2'], 'bid_score': 1.0011315789473683, 'p_value': 0.37, 'payment': 114.31019158851434}, {'client_id': ['3'], 'bid_score': 1.0024407894736842, 'p_value': 0.35, 'payment': 116.675786683222}, {'client_id': ['4'], 'bid_score': 0.9604736842105264, 'p_value': 0.37, 'payment': 108.18993329357353}]\n",
            "The Client with Higher Score [{'client_id': ['3'], 'bid_score': 1.0024407894736842, 'p_value': 0.35, 'payment': 116.675786683222}, {'client_id': ['2'], 'bid_score': 1.0011315789473683, 'p_value': 0.37, 'payment': 114.31019158851434}]\n",
            "Returing to CLient to Train\n",
            "\u001b[2m\u001b[36m(DefaultActor pid=3030)\u001b[0m 3 -> Please try train\n",
            "\u001b[2m\u001b[36m(DefaultActor pid=3030)\u001b[0m Payment Received [116.675786683222]\n",
            "\u001b[2m\u001b[36m(DefaultActor pid=3030)\u001b[0m [Client 3, round 1] fit, config: {'train': True, 'bid_score': 1.0024407894736842, 'payment': 116.675786683222}\n",
            "\u001b[2m\u001b[36m(DefaultActor pid=3030)\u001b[0m [Client 2] evaluate, config: {}\u001b[32m [repeated 4x across cluster]\u001b[0m\n",
            "\u001b[2m\u001b[36m(DefaultActor pid=3032)\u001b[0m Values of each node loss [0.009163263253867626, 0.008115079253911972, 0.007467166520655155, 0.007015294395387173, 0.006669421214610338]\n",
            "\u001b[2m\u001b[36m(DefaultActor pid=3032)\u001b[0m 2 -> Please try train\n",
            "\u001b[2m\u001b[36m(DefaultActor pid=3032)\u001b[0m Payment Received [114.31019158851434]\n",
            "\u001b[2m\u001b[36m(DefaultActor pid=3032)\u001b[0m [Client 2, round 1] fit, config: {'train': True, 'bid_score': 1.0011315789473683, 'payment': 114.31019158851434}\n"
          ]
        },
        {
          "output_type": "stream",
          "name": "stderr",
          "text": [
            "DEBUG flwr 2023-09-19 17:41:01,068 | server.py:236 | fit_round 2 received 2 results and 0 failures\n",
            "DEBUG:flwr:fit_round 2 received 2 results and 0 failures\n",
            "DEBUG flwr 2023-09-19 17:41:01,086 | server.py:173 | evaluate_round 2: strategy sampled 5 clients (out of 5)\n",
            "DEBUG:flwr:evaluate_round 2: strategy sampled 5 clients (out of 5)\n"
          ]
        },
        {
          "output_type": "stream",
          "name": "stdout",
          "text": [
            "Saving round 2 aggregated_ndarrays...\n",
            "Server round -> 2\n",
            "\u001b[2m\u001b[36m(DefaultActor pid=3032)\u001b[0m Figure(640x480)\n",
            "\u001b[2m\u001b[36m(DefaultActor pid=3030)\u001b[0m [Client 2] evaluate, config: {}\n",
            "\u001b[2m\u001b[36m(DefaultActor pid=3030)\u001b[0m Values of each node loss [0.008941959589719772, 0.008115505799651146, 0.007301590405404568, 0.007281925063580275, 0.006467527709901333]\n",
            "\u001b[2m\u001b[36m(DefaultActor pid=3030)\u001b[0m Figure(640x480)\n",
            "\u001b[2m\u001b[36m(DefaultActor pid=3032)\u001b[0m [Client 3] evaluate, config: {}\u001b[32m [repeated 4x across cluster]\u001b[0m\n"
          ]
        },
        {
          "output_type": "stream",
          "name": "stderr",
          "text": [
            "DEBUG flwr 2023-09-19 17:41:08,175 | server.py:187 | evaluate_round 2 received 5 results and 0 failures\n",
            "DEBUG:flwr:evaluate_round 2 received 5 results and 0 failures\n",
            "DEBUG flwr 2023-09-19 17:41:09,074 | server.py:222 | fit_round 3: strategy sampled 2 clients (out of 5)\n",
            "DEBUG:flwr:fit_round 3: strategy sampled 2 clients (out of 5)\n"
          ]
        },
        {
          "output_type": "stream",
          "name": "stdout",
          "text": [
            "bandwidth_data [[0.56842105 0.26425   ]\n",
            " [0.88421053 0.78375   ]\n",
            " [0.46315789 0.29875   ]\n",
            " [0.77894737 0.7215    ]\n",
            " [0.98947368 0.7665    ]]\n",
            "The Integral Value is =  0.048322637359385946\n",
            "0.7563355263157895 0.8046581636751754\n",
            "The Integral Value is =  0.3414116868027798\n",
            "1.1739802631578948 1.5153919499606747\n",
            "The Integral Value is =  0.03722928466991671\n",
            "0.720953947368421 0.7581832320383377\n",
            "The Integral Value is =  0.2517019799286682\n",
            "1.1002236842105262 1.3519256641391943\n",
            "The Integral Value is =  0.40667495943617205\n",
            "1.217986842105263 1.6246618015414351\n",
            "Client Scoring Board [{'client_id': ['0'], 'bid_score': 0.7563355263157895, 'p_value': 0.34, 'payment': 80.46581636751753}, {'client_id': ['1'], 'bid_score': 1.1739802631578948, 'p_value': 0.34, 'payment': 151.53919499606747}, {'client_id': ['2'], 'bid_score': 0.720953947368421, 'p_value': 0.34, 'payment': 75.81832320383377}, {'client_id': ['3'], 'bid_score': 1.1002236842105262, 'p_value': 0.35, 'payment': 135.19256641391942}, {'client_id': ['4'], 'bid_score': 1.217986842105263, 'p_value': 0.34, 'payment': 162.4661801541435}]\n",
            "The Client with Higher Score [{'client_id': ['4'], 'bid_score': 1.217986842105263, 'p_value': 0.34, 'payment': 162.4661801541435}, {'client_id': ['1'], 'bid_score': 1.1739802631578948, 'p_value': 0.34, 'payment': 151.53919499606747}]\n",
            "Returing to CLient to Train\n",
            "\u001b[2m\u001b[36m(DefaultActor pid=3032)\u001b[0m 4 -> Please try train\n",
            "\u001b[2m\u001b[36m(DefaultActor pid=3032)\u001b[0m Payment Received [162.4661801541435]\n",
            "\u001b[2m\u001b[36m(DefaultActor pid=3032)\u001b[0m [Client 4, round 1] fit, config: {'train': True, 'bid_score': 1.217986842105263, 'payment': 162.4661801541435}\n",
            "\u001b[2m\u001b[36m(DefaultActor pid=3032)\u001b[0m Values of each node loss [0.007168738637119532, 0.006607400719076395, 0.00628838874399662, 0.005992451217025518, 0.0057628946378827095]\n",
            "\u001b[2m\u001b[36m(DefaultActor pid=3030)\u001b[0m 1 -> Please try train\n",
            "\u001b[2m\u001b[36m(DefaultActor pid=3030)\u001b[0m Payment Received [151.53919499606747]\n",
            "\u001b[2m\u001b[36m(DefaultActor pid=3030)\u001b[0m [Client 1, round 1] fit, config: {'train': True, 'bid_score': 1.1739802631578948, 'payment': 151.53919499606747}\n"
          ]
        },
        {
          "output_type": "stream",
          "name": "stderr",
          "text": [
            "DEBUG flwr 2023-09-19 17:42:01,989 | server.py:236 | fit_round 3 received 2 results and 0 failures\n",
            "DEBUG:flwr:fit_round 3 received 2 results and 0 failures\n",
            "DEBUG flwr 2023-09-19 17:42:02,002 | server.py:173 | evaluate_round 3: strategy sampled 5 clients (out of 5)\n",
            "DEBUG:flwr:evaluate_round 3: strategy sampled 5 clients (out of 5)\n"
          ]
        },
        {
          "output_type": "stream",
          "name": "stdout",
          "text": [
            "\u001b[2m\u001b[36m(DefaultActor pid=3032)\u001b[0m Figure(640x480)\n",
            "Saving round 3 aggregated_ndarrays...\n",
            "Server round -> 3\n",
            "\u001b[2m\u001b[36m(DefaultActor pid=3030)\u001b[0m [Client 2] evaluate, config: {}\n"
          ]
        },
        {
          "output_type": "stream",
          "name": "stderr",
          "text": [
            "DEBUG flwr 2023-09-19 17:42:06,583 | server.py:187 | evaluate_round 3 received 5 results and 0 failures\n",
            "DEBUG:flwr:evaluate_round 3 received 5 results and 0 failures\n",
            "DEBUG flwr 2023-09-19 17:42:07,481 | server.py:222 | fit_round 4: strategy sampled 2 clients (out of 5)\n",
            "DEBUG:flwr:fit_round 4: strategy sampled 2 clients (out of 5)\n"
          ]
        },
        {
          "output_type": "stream",
          "name": "stdout",
          "text": [
            "bandwidth_data [[0.8        0.20175   ]\n",
            " [0.45263158 0.8255    ]\n",
            " [0.44210526 0.5805    ]\n",
            " [0.78947368 0.50825   ]\n",
            " [0.37894737 0.724     ]]\n",
            "The Integral Value is =  0.08040399726283991\n",
            "0.830875 0.9112789972628399\n",
            "The Integral Value is =  0.15002348945070249\n",
            "0.9990657894736842 1.1490892789243867\n",
            "The Integral Value is =  0.0794636031447774\n",
            "0.8613026315789474 0.9407662347237248\n",
            "The Integral Value is =  0.16365354026368295\n",
            "0.9888618421052633 1.1525153823689462\n",
            "The Integral Value is =  0.09786703404826869\n",
            "0.9114736842105263 1.009340718258795\n",
            "Client Scoring Board [{'client_id': ['0'], 'bid_score': 0.830875, 'p_value': 0.33, 'payment': 91.12789972628399}, {'client_id': ['1'], 'bid_score': 0.9990657894736842, 'p_value': 0.36, 'payment': 114.90892789243867}, {'client_id': ['2'], 'bid_score': 0.8613026315789474, 'p_value': 0.35, 'payment': 94.07662347237248}, {'client_id': ['3'], 'bid_score': 0.9888618421052633, 'p_value': 0.34, 'payment': 115.25153823689462}, {'client_id': ['4'], 'bid_score': 0.9114736842105263, 'p_value': 0.36, 'payment': 100.9340718258795}]\n",
            "The Client with Higher Score [{'client_id': ['1'], 'bid_score': 0.9990657894736842, 'p_value': 0.36, 'payment': 114.90892789243867}, {'client_id': ['3'], 'bid_score': 0.9888618421052633, 'p_value': 0.34, 'payment': 115.25153823689462}]\n",
            "Returing to CLient to Train\n",
            "\u001b[2m\u001b[36m(DefaultActor pid=3030)\u001b[0m 1 -> Please try train\n",
            "\u001b[2m\u001b[36m(DefaultActor pid=3030)\u001b[0m Payment Received [114.90892789243867]\n",
            "\u001b[2m\u001b[36m(DefaultActor pid=3030)\u001b[0m [Client 1, round 1] fit, config: {'train': True, 'bid_score': 0.9990657894736842, 'payment': 114.90892789243867}\n",
            "\u001b[2m\u001b[36m(DefaultActor pid=3030)\u001b[0m Values of each node loss [0.006478914991021156, 0.005947657860815525, 0.006231921724975109, 0.005563822574913502, 0.0053703137673437595]\n",
            "\u001b[2m\u001b[36m(DefaultActor pid=3030)\u001b[0m Figure(640x480)\n",
            "\u001b[2m\u001b[36m(DefaultActor pid=3030)\u001b[0m [Client 4] evaluate, config: {}\u001b[32m [repeated 4x across cluster]\u001b[0m\n",
            "\u001b[2m\u001b[36m(DefaultActor pid=3032)\u001b[0m Values of each node loss [0.005951132159680128, 0.005588545463979244, 0.005545036867260933, 0.005231490358710289, 0.005115629639476538]\n",
            "\u001b[2m\u001b[36m(DefaultActor pid=3032)\u001b[0m 3 -> Please try train\n",
            "\u001b[2m\u001b[36m(DefaultActor pid=3032)\u001b[0m Payment Received [115.25153823689462]\n",
            "\u001b[2m\u001b[36m(DefaultActor pid=3032)\u001b[0m [Client 3, round 1] fit, config: {'train': True, 'bid_score': 0.9888618421052633, 'payment': 115.25153823689462}\n"
          ]
        },
        {
          "output_type": "stream",
          "name": "stderr",
          "text": [
            "DEBUG flwr 2023-09-19 17:43:01,279 | server.py:236 | fit_round 4 received 2 results and 0 failures\n",
            "DEBUG:flwr:fit_round 4 received 2 results and 0 failures\n",
            "DEBUG flwr 2023-09-19 17:43:01,299 | server.py:173 | evaluate_round 4: strategy sampled 5 clients (out of 5)\n",
            "DEBUG:flwr:evaluate_round 4: strategy sampled 5 clients (out of 5)\n"
          ]
        },
        {
          "output_type": "stream",
          "name": "stdout",
          "text": [
            "\u001b[2m\u001b[36m(DefaultActor pid=3032)\u001b[0m Figure(640x480)\n",
            "Saving round 4 aggregated_ndarrays...\n",
            "Server round -> 4\n",
            "\u001b[2m\u001b[36m(DefaultActor pid=3032)\u001b[0m [Client 0] evaluate, config: {}\n",
            "\u001b[2m\u001b[36m(DefaultActor pid=3030)\u001b[0m Values of each node loss [0.005181603599339724, 0.005489424802362919, 0.005293570924550295, 0.004901929758489132, 0.0048557305708527565]\n",
            "\u001b[2m\u001b[36m(DefaultActor pid=3030)\u001b[0m Figure(640x480)\n"
          ]
        },
        {
          "output_type": "stream",
          "name": "stderr",
          "text": [
            "DEBUG flwr 2023-09-19 17:43:07,510 | server.py:187 | evaluate_round 4 received 5 results and 0 failures\n",
            "DEBUG:flwr:evaluate_round 4 received 5 results and 0 failures\n",
            "INFO flwr 2023-09-19 17:43:07,518 | server.py:153 | FL finished in 251.43657563600004\n",
            "INFO:flwr:FL finished in 251.43657563600004\n",
            "INFO flwr 2023-09-19 17:43:07,521 | app.py:225 | app_fit: losses_distributed [(1, 0.00384960175336649), (2, 0.002317216453879761), (3, 0.0020251231784228973), (4, 0.0018974193558921493)]\n",
            "INFO:flwr:app_fit: losses_distributed [(1, 0.00384960175336649), (2, 0.002317216453879761), (3, 0.0020251231784228973), (4, 0.0018974193558921493)]\n",
            "INFO flwr 2023-09-19 17:43:07,523 | app.py:226 | app_fit: metrics_distributed_fit {}\n",
            "INFO:flwr:app_fit: metrics_distributed_fit {}\n",
            "INFO flwr 2023-09-19 17:43:07,525 | app.py:227 | app_fit: metrics_distributed {'accuracy': [(1, 0.9638333333333333), (2, 0.9766666666666667), (3, 0.9805), (4, 0.9806666666666667)]}\n",
            "INFO:flwr:app_fit: metrics_distributed {'accuracy': [(1, 0.9638333333333333), (2, 0.9766666666666667), (3, 0.9805), (4, 0.9806666666666667)]}\n",
            "INFO flwr 2023-09-19 17:43:07,527 | app.py:228 | app_fit: losses_centralized []\n",
            "INFO:flwr:app_fit: losses_centralized []\n",
            "INFO flwr 2023-09-19 17:43:07,529 | app.py:229 | app_fit: metrics_centralized {}\n",
            "INFO:flwr:app_fit: metrics_centralized {}\n"
          ]
        },
        {
          "output_type": "execute_result",
          "data": {
            "text/plain": [
              "History (loss, distributed):\n",
              "\tround 1: 0.00384960175336649\n",
              "\tround 2: 0.002317216453879761\n",
              "\tround 3: 0.0020251231784228973\n",
              "\tround 4: 0.0018974193558921493\n",
              "History (metrics, distributed, evaluate):\n",
              "{'accuracy': [(1, 0.9638333333333333), (2, 0.9766666666666667), (3, 0.9805), (4, 0.9806666666666667)]}"
            ]
          },
          "metadata": {},
          "execution_count": 13
        }
      ]
    }
  ]
}